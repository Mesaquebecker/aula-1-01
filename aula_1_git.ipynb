{
 "cells": [
  {
   "cell_type": "code",
   "execution_count": 7,
   "id": "943fea70",
   "metadata": {},
   "outputs": [],
   "source": [
    "pasta = open(\"aula1.txt\",\"w\")"
   ]
  },
  {
   "cell_type": "code",
   "execution_count": 8,
   "id": "1e68dbdd",
   "metadata": {},
   "outputs": [
    {
     "data": {
      "text/plain": [
       "12"
      ]
     },
     "execution_count": 8,
     "metadata": {},
     "output_type": "execute_result"
    }
   ],
   "source": [
    "pasta.write(\"aula 1 - GIT\")"
   ]
  },
  {
   "cell_type": "code",
   "execution_count": 9,
   "id": "7e7a0070",
   "metadata": {},
   "outputs": [],
   "source": [
    "pasta.close()"
   ]
  },
  {
   "cell_type": "code",
   "execution_count": null,
   "id": "e3ad9f9e",
   "metadata": {},
   "outputs": [],
   "source": []
  }
 ],
 "metadata": {
  "kernelspec": {
   "display_name": "Python 3 (ipykernel)",
   "language": "python",
   "name": "python3"
  },
  "language_info": {
   "codemirror_mode": {
    "name": "ipython",
    "version": 3
   },
   "file_extension": ".py",
   "mimetype": "text/x-python",
   "name": "python",
   "nbconvert_exporter": "python",
   "pygments_lexer": "ipython3",
   "version": "3.9.12"
  }
 },
 "nbformat": 4,
 "nbformat_minor": 5
}
